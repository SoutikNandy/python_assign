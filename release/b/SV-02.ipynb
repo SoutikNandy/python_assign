{
 "cells": [
  {
   "cell_type": "markdown",
   "metadata": {},
   "source": [
    "Before you turn this problem in, make sure everything runs as expected. First, **restart the kernel** (in the menubar, select Kernel$\\rightarrow$Restart) and then **run all cells** (in the menubar, select Cell$\\rightarrow$Run All).\n",
    "\n",
    "Make sure you fill in any place that says `YOUR CODE HERE` or \"YOUR ANSWER HERE\", as well as your name below:"
   ]
  },
  {
   "cell_type": "code",
   "execution_count": null,
   "metadata": {},
   "outputs": [],
   "source": [
    "NAME = \"\""
   ]
  },
  {
   "cell_type": "markdown",
   "metadata": {},
   "source": [
    "---"
   ]
  },
  {
   "cell_type": "markdown",
   "metadata": {
    "deletable": false,
    "editable": false,
    "nbgrader": {
     "checksum": "320a0f1232b8a6c4868ca6c727e550fe",
     "grade": false,
     "grade_id": "cell-5da2ed4f261cc2ad",
     "locked": true,
     "schema_version": 1,
     "solution": false
    }
   },
   "source": [
    "# Assignment 2"
   ]
  },
  {
   "cell_type": "markdown",
   "metadata": {},
   "source": [
    "Reverse the string using slicing and store in ans1"
   ]
  },
  {
   "cell_type": "code",
   "execution_count": null,
   "metadata": {
    "deletable": false,
    "nbgrader": {
     "checksum": "8f0d860f0f13cd63a8d1d29712ed9071",
     "grade": false,
     "grade_id": "cell-0299b3edb1134423",
     "locked": false,
     "schema_version": 1,
     "solution": true
    }
   },
   "outputs": [],
   "source": [
    "s ='hello'\n",
    "ans1= None\n",
    "# YOUR CODE HERE"
   ]
  },
  {
   "cell_type": "code",
   "execution_count": null,
   "metadata": {
    "deletable": false,
    "editable": false,
    "nbgrader": {
     "checksum": "87dc910a3bbd90f25a90de389b61162a",
     "grade": true,
     "grade_id": "cell-3331bbdd208eb488",
     "locked": true,
     "points": 1,
     "schema_version": 1,
     "solution": false
    }
   },
   "outputs": [],
   "source": []
  },
  {
   "cell_type": "markdown",
   "metadata": {
    "deletable": false,
    "editable": false,
    "nbgrader": {
     "checksum": "eef9f615c674b71047536cb07ed4ba71",
     "grade": false,
     "grade_id": "cell-7fc8db293499dea2",
     "locked": true,
     "schema_version": 1,
     "solution": false
    }
   },
   "source": [
    "HackTheBox Foundation came up with an interesting thing, You are given a string *p* and it is coded as follows:\n",
    "\n",
    "*An original string ans2 was taken and every char in 'ans2' is suffixed (added in end) x number of random chars and stored in a variable p* <br><br>\n",
    "Find ans2\n",
    "<div style=\"text-align: right\">-- 2 points </div>"
   ]
  },
  {
   "cell_type": "code",
   "execution_count": null,
   "metadata": {
    "deletable": false,
    "nbgrader": {
     "checksum": "09dc83a3bc780700ed3ad4423a4d1d8d",
     "grade": false,
     "grade_id": "cell-bcbb56baf111b1cd",
     "locked": false,
     "schema_version": 1,
     "solution": true
    }
   },
   "outputs": [],
   "source": [
    "p='clbzwaolcnmonwy pbggrx rrpbyqmaxheo twhqxzsyitzf cjlxnyoqbpso urbtupvtcs cfhdodmkyjwim fuddkbhmr soufbiqvjhetgfume'\n",
    "ans2=None\n",
    "# YOUR CODE HERE"
   ]
  },
  {
   "cell_type": "code",
   "execution_count": null,
   "metadata": {
    "deletable": false,
    "editable": false,
    "nbgrader": {
     "checksum": "68eab9e4f08099d3b44b8cb6f316a955",
     "grade": true,
     "grade_id": "cell-d91e156166669e98",
     "locked": true,
     "points": 2,
     "schema_version": 1,
     "solution": false
    }
   },
   "outputs": [],
   "source": []
  },
  {
   "cell_type": "markdown",
   "metadata": {},
   "source": [
    "You are given two lists x and y. Sort x in ascending order and sort y in descending order. Then store the concatenation in ans3"
   ]
  },
  {
   "cell_type": "code",
   "execution_count": null,
   "metadata": {
    "deletable": false,
    "nbgrader": {
     "checksum": "e04eeda618df5524be64d60427ba9cdc",
     "grade": false,
     "grade_id": "cell-4ce105b074ba9ef1",
     "locked": false,
     "schema_version": 1,
     "solution": true
    }
   },
   "outputs": [],
   "source": [
    "x=[3,5,1,9,7,4]\n",
    "y=['limit','tends','to','infinity']\n",
    "ans3=None\n",
    "# YOUR CODE HERE"
   ]
  },
  {
   "cell_type": "code",
   "execution_count": null,
   "metadata": {
    "deletable": false,
    "editable": false,
    "nbgrader": {
     "checksum": "e36e56440c79f94de4ff1f1d2a60d199",
     "grade": true,
     "grade_id": "cell-db13bb8ec526dea3",
     "locked": true,
     "points": 1,
     "schema_version": 1,
     "solution": false
    }
   },
   "outputs": [],
   "source": []
  },
  {
   "cell_type": "markdown",
   "metadata": {},
   "source": [
    "You are given a list p.<br>\n",
    "Change 3<sup>rd</sup> element in p to <code>rock</code>.<br>\n",
    "Add <code>boss</code> in the end of list.<br>\n",
    "Add another element <code>don't</code> after <code>you</code><br>\n",
    "And store in ans4"
   ]
  },
  {
   "cell_type": "code",
   "execution_count": null,
   "metadata": {
    "deletable": false,
    "nbgrader": {
     "checksum": "7d16845542dc8e37322c47382c281e18",
     "grade": false,
     "grade_id": "cell-0c36b20d9e316bdd",
     "locked": false,
     "schema_version": 1,
     "solution": true
    }
   },
   "outputs": [],
   "source": [
    "ans4=None\n",
    "p=['you','definitely','too','inside','of me']\n",
    "# YOUR CODE HERE"
   ]
  },
  {
   "cell_type": "code",
   "execution_count": null,
   "metadata": {
    "deletable": false,
    "editable": false,
    "nbgrader": {
     "checksum": "e2bc22879598bf6e7d34288c06f94552",
     "grade": true,
     "grade_id": "cell-bc5190db0237a7ea",
     "locked": true,
     "points": 1,
     "schema_version": 1,
     "solution": false
    }
   },
   "outputs": [],
   "source": []
  },
  {
   "cell_type": "code",
   "execution_count": null,
   "metadata": {},
   "outputs": [],
   "source": []
  },
  {
   "cell_type": "code",
   "execution_count": null,
   "metadata": {},
   "outputs": [],
   "source": []
  }
 ],
 "metadata": {
  "kernelspec": {
   "display_name": "Python 3",
   "language": "python",
   "name": "python3"
  },
  "language_info": {
   "codemirror_mode": {
    "name": "ipython",
    "version": 3
   },
   "file_extension": ".py",
   "mimetype": "text/x-python",
   "name": "python",
   "nbconvert_exporter": "python",
   "pygments_lexer": "ipython3",
   "version": "3.7.3"
  }
 },
 "nbformat": 4,
 "nbformat_minor": 2
}
