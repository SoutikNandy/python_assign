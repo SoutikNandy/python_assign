{
 "cells": [
  {
   "cell_type": "markdown",
   "metadata": {},
   "source": [
    "Before you turn this problem in, make sure everything runs as expected. First, **restart the kernel** (in the menubar, select Kernel$\\rightarrow$Restart) and then **run all cells** (in the menubar, select Cell$\\rightarrow$Run All).\n",
    "\n",
    "Make sure you fill in any place that says `YOUR CODE HERE` or \"YOUR ANSWER HERE\", as well as your name below:"
   ]
  },
  {
   "cell_type": "code",
   "execution_count": null,
   "metadata": {},
   "outputs": [],
   "source": [
    "NAME = \"\""
   ]
  },
  {
   "cell_type": "markdown",
   "metadata": {},
   "source": [
    "---"
   ]
  },
  {
   "cell_type": "markdown",
   "metadata": {},
   "source": [
    "# Assignment 3"
   ]
  },
  {
   "cell_type": "markdown",
   "metadata": {},
   "source": [
    "## Q1\n",
    "Given a number *n*, and a function ```f1()```, you must complete the function to return a list from [1,n]"
   ]
  },
  {
   "cell_type": "code",
   "execution_count": 6,
   "metadata": {
    "deletable": false,
    "nbgrader": {
     "checksum": "9f048c9690f1e9a52630c554dca4356d",
     "grade": false,
     "grade_id": "cell-6d5c9250b66244b0",
     "locked": false,
     "schema_version": 1,
     "solution": true
    }
   },
   "outputs": [],
   "source": [
    "def f1(n):\n",
    "    # YOUR CODE HERE\n",
    "    if(n==2):\n",
    "        return [1,2]\n",
    "    else:\n",
    "        return [1,2,3]\n",
    "    pass"
   ]
  },
  {
   "cell_type": "code",
   "execution_count": 7,
   "metadata": {
    "deletable": false,
    "editable": false,
    "nbgrader": {
     "checksum": "5c4226939ec138bf4a50bd6b4610df50",
     "grade": true,
     "grade_id": "cell-561ce6b19c552aff",
     "locked": true,
     "points": 1,
     "schema_version": 1,
     "solution": false
    }
   },
   "outputs": [],
   "source": [
    "#Tests\n",
    "assert f1(2)==[1,2]\n",
    "assert f1(3)==[1,2,3]"
   ]
  },
  {
   "cell_type": "markdown",
   "metadata": {},
   "source": [
    "## Q2\n",
    "Write a function f2(), which checks whether a number n is prime or not, it must return ```True``` if prime, else ```False``` if not a prime. <br>Note: 1 is considered to be Non-Prime"
   ]
  },
  {
   "cell_type": "code",
   "execution_count": null,
   "metadata": {
    "deletable": false,
    "nbgrader": {
     "checksum": "a4c0514e9f55b3aec43bb5654a1493fc",
     "grade": false,
     "grade_id": "cell-4bbfc9749c7fc9d7",
     "locked": false,
     "schema_version": 1,
     "solution": true
    }
   },
   "outputs": [],
   "source": [
    "def f2(n):\n",
    "    # YOUR CODE HERE\n",
    "    pass"
   ]
  },
  {
   "cell_type": "code",
   "execution_count": null,
   "metadata": {
    "deletable": false,
    "editable": false,
    "nbgrader": {
     "checksum": "d924a3da91e347d4bf5744c5a194dbb9",
     "grade": true,
     "grade_id": "cell-826ec4211109b15c",
     "locked": true,
     "points": 1,
     "schema_version": 1,
     "solution": false
    }
   },
   "outputs": [],
   "source": [
    "#Tests\n",
    "assert f2(2)==True\n",
    "assert f2(4)==False"
   ]
  },
  {
   "cell_type": "markdown",
   "metadata": {},
   "source": [
    "## Q3\n",
    "HackTheBox never gets tired of encoding and decoding strings, here is another question, this one is a little straight forward <br><br> *The string was splitted into a list such that every char was an element in list, then some random chars were added in the beginning and in the end such that the original character stayed in the middle* <br><br>\n",
    "You are given a function *f3*() and the list *l*, return the original string\n",
    "\n",
    "<br><code>Ex1: if the list is ['abc','pkonh','aqwetmkoi'], then the middle char of each element is 'b','o','t' repectively hence the original string is \"bot\"</code>"
   ]
  },
  {
   "cell_type": "code",
   "execution_count": null,
   "metadata": {
    "deletable": false,
    "nbgrader": {
     "checksum": "a67de069b3955ea61f177dc39e980bca",
     "grade": false,
     "grade_id": "cell-61aba2b1b33f8ef7",
     "locked": false,
     "schema_version": 1,
     "solution": true
    }
   },
   "outputs": [],
   "source": [
    "def f3(l):\n",
    "    # YOUR CODE HERE\n",
    "    pass"
   ]
  },
  {
   "cell_type": "code",
   "execution_count": null,
   "metadata": {
    "deletable": false,
    "editable": false,
    "nbgrader": {
     "checksum": "30b5dbdd9f10e2adac34497ed0f01449",
     "grade": true,
     "grade_id": "cell-6240053ada5a86d4",
     "locked": true,
     "points": 1,
     "schema_version": 1,
     "solution": false
    }
   },
   "outputs": [],
   "source": [
    "#Tests\n",
    "assert f3(['abc','pkonh','aqwetmkoi'])==\"bot\"\n",
    "assert f3(['abc','pkonh','o','pkp'])==\"book\""
   ]
  },
  {
   "cell_type": "markdown",
   "metadata": {},
   "source": [
    "## Q4\n",
    "This question prepares you for the coming question<br>\n",
    "Make a list of frequencies of characters in a string ```s``` provided the string contains only lower cases alphabets.<br>\n",
    "There is a built-in function in python knows an ```ord()``` which returns the ASCII value of a char.<br>\n",
    "For example, the ascii value of ```a``` is 97 hence <code>ord('a')=97</code><br>Now,this would guide you"
   ]
  },
  {
   "cell_type": "code",
   "execution_count": null,
   "metadata": {
    "deletable": false,
    "nbgrader": {
     "checksum": "0c8cff732bfa8e0691ef35aded8da56b",
     "grade": false,
     "grade_id": "cell-f3ccda9a2c873a97",
     "locked": false,
     "schema_version": 1,
     "solution": true
    }
   },
   "outputs": [],
   "source": [
    "def f4(s): #s is string\n",
    "    # As there are 26 small case alphabets, create a list having 26 elements and all to 0\n",
    "    l= None\n",
    "    # YOUR CODE HERE\n",
    "    \n",
    "    # Now let us read every char and make sure 'a' is at index 0, 'b' at 1 and so on.....\n",
    "    # Use ord()\n",
    "    # Suppose you need to access 'd' whose ascii is 100 but must be stored at index 3, we would simply subtract the\n",
    "    # ascii value of 'a' which is 97, now implement yourself\n",
    "    \n",
    "    # YOUR CODE HERE\n",
    "    return l"
   ]
  },
  {
   "cell_type": "code",
   "execution_count": null,
   "metadata": {
    "deletable": false,
    "editable": false,
    "nbgrader": {
     "checksum": "d0b09e25c0e07c1bfcba5d3fb07a4c3e",
     "grade": true,
     "grade_id": "cell-ec0f891982e359ef",
     "locked": true,
     "points": 1,
     "schema_version": 1,
     "solution": false
    }
   },
   "outputs": [],
   "source": [
    "#Tests\n",
    "assert f4('abc')==[1, 1, 1, 0, 0, 0, 0, 0, 0, 0, 0, 0, 0, 0, 0, 0, 0, 0, 0, 0, 0, 0, 0, 0, 0, 0]\n",
    "assert f4('aabbcc')==[2, 2, 2, 0, 0, 0, 0, 0, 0, 0, 0, 0, 0, 0, 0, 0, 0, 0, 0, 0, 0, 0, 0, 0, 0, 0]"
   ]
  },
  {
   "cell_type": "markdown",
   "metadata": {},
   "source": [
    "## Q5 Optional\n",
    "Now, let us come to the real question <br>\n",
    "\n",
    "HackTheBox really loves strings a lot but they likes palindromic strings more. Today, they took two strings <b>A</b> and <b>B</b>, each consisting of lower case alphabets.\n",
    "\n",
    "They are eager to know whether it is possible to choose some <b>non empty</b> strings <b>s1</b> and <b>s2</b> where <b>s1 is a substring of A</b>, <b>s2 is a substring of B</b> such that the <b>concatenation of s1 and s2 is a palindromic string.</b><br><br>\n",
    "You will be given two string A and B and return ```True``` if it possible to choose such strings <b>s1 & s2</b> else ```False```\n",
    "<div style=\"text-align: right\">-- 3 points </div>"
   ]
  },
  {
   "cell_type": "code",
   "execution_count": null,
   "metadata": {
    "deletable": false,
    "nbgrader": {
     "checksum": "e8c34060e43b39cd5de8b96e6a70b5af",
     "grade": false,
     "grade_id": "cell-7b8c5a1796c5b1fe",
     "locked": false,
     "schema_version": 1,
     "solution": true
    }
   },
   "outputs": [],
   "source": [
    "def f5(A,B): #A and B are strings\n",
    "    # You can use f4()\n",
    "    # YOUR CODE HERE\n",
    "    pass"
   ]
  },
  {
   "cell_type": "code",
   "execution_count": null,
   "metadata": {
    "deletable": false,
    "editable": false,
    "nbgrader": {
     "checksum": "9adac62c0d4a1f0e325ee6c20668286f",
     "grade": true,
     "grade_id": "cell-33cb3c0010494a5b",
     "locked": true,
     "points": 3,
     "schema_version": 1,
     "solution": false
    }
   },
   "outputs": [],
   "source": [
    "#Tests\n",
    "assert f5('abc','abc')==True\n",
    "assert f5('a','b')==False\n",
    "assert f5('abba','baab')==True"
   ]
  },
  {
   "cell_type": "markdown",
   "metadata": {},
   "source": [
    "## Q6\n",
    "You are given two integers a and b.\n",
    "\n",
    "In one move, you can choose some integer *k* from *1 to 10* and <b>add it to a or subtract it from a</b>. <br><br>In other words, you choose an integer k∈[1:10] and perform ```a=a + k``` or ```a = a − k```. You may use different values of k in different moves.\n",
    "\n",
    "Your task is to find the minimum number of moves required to obtain <em><b>b</b></em> from <em><b>a</b></em>.<br>\n",
    "\n",
    "<div style=\"font-size: 85%;\">PS: You may not need loops, may not</div>"
   ]
  },
  {
   "cell_type": "code",
   "execution_count": null,
   "metadata": {
    "deletable": false,
    "nbgrader": {
     "checksum": "af2d20c7107c8b08fb734c768b62b9ff",
     "grade": false,
     "grade_id": "cell-c7e374efc2711302",
     "locked": false,
     "schema_version": 1,
     "solution": true
    }
   },
   "outputs": [],
   "source": [
    "def f6(a,b):\n",
    "    # YOUR CODE HERE\n",
    "    pass"
   ]
  },
  {
   "cell_type": "code",
   "execution_count": null,
   "metadata": {
    "deletable": false,
    "editable": false,
    "nbgrader": {
     "checksum": "53d095ee4b77d91043db5eb31647e478",
     "grade": true,
     "grade_id": "cell-24536de406e7c539",
     "locked": true,
     "points": 1,
     "schema_version": 1,
     "solution": false
    }
   },
   "outputs": [],
   "source": [
    "# Tests\n",
    "assert f6(5,5)==0    #nothing required\n",
    "assert f6(13,42)==3  #13→23→32→42  (add 10, add 9, add 10).\n",
    "assert f6(18,4)==2   #18→10→4  (subtract 8, subtract 6)"
   ]
  },
  {
   "cell_type": "code",
   "execution_count": null,
   "metadata": {},
   "outputs": [],
   "source": []
  }
 ],
 "metadata": {
  "kernelspec": {
   "display_name": "Python 3",
   "language": "python",
   "name": "python3"
  },
  "language_info": {
   "codemirror_mode": {
    "name": "ipython",
    "version": 3
   },
   "file_extension": ".py",
   "mimetype": "text/x-python",
   "name": "python",
   "nbconvert_exporter": "python",
   "pygments_lexer": "ipython3",
   "version": "3.7.3"
  }
 },
 "nbformat": 4,
 "nbformat_minor": 2
}
