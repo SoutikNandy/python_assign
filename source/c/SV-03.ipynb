{
 "cells": [
  {
   "cell_type": "markdown",
   "metadata": {},
   "source": [
    "# Assignment 3"
   ]
  },
  {
   "cell_type": "markdown",
   "metadata": {},
   "source": [
    "## Q1\n",
    "Given a number *n*, and a function ```f1()```, you must complete the function to return a list from [1,n]"
   ]
  },
  {
   "cell_type": "code",
   "execution_count": 12,
   "metadata": {
    "nbgrader": {
     "grade": false,
     "grade_id": "cell-6d5c9250b66244b0",
     "locked": false,
     "schema_version": 1,
     "solution": true
    }
   },
   "outputs": [],
   "source": [
    "def f1(n):\n",
    "    ### BEGIN SOLUTION\n",
    "    return list(range(1,n+1))\n",
    "    ### END SOLUTION\n",
    "    pass"
   ]
  },
  {
   "cell_type": "code",
   "execution_count": 14,
   "metadata": {
    "nbgrader": {
     "grade": true,
     "grade_id": "cell-561ce6b19c552aff",
     "locked": true,
     "points": 1,
     "schema_version": 1,
     "solution": false
    }
   },
   "outputs": [],
   "source": [
    "#Tests\n",
    "assert f1(2)==[1,2]\n",
    "assert f1(3)==[1,2,3]\n",
    "### BEGIN HIDDEN TESTS\n",
    "assert f1(1)==[1]\n",
    "assert f1(40)==list(range(1,41))\n",
    "### END HIDDEN TESTS"
   ]
  },
  {
   "cell_type": "markdown",
   "metadata": {},
   "source": [
    "## Q2\n",
    "Write a function f2(), which checks whether a number n is prime or not, it must return ```True``` if prime, else ```False``` if not a prime. <br>Note: 1 is considered to be Non-Prime"
   ]
  },
  {
   "cell_type": "code",
   "execution_count": 31,
   "metadata": {
    "nbgrader": {
     "grade": false,
     "grade_id": "cell-4bbfc9749c7fc9d7",
     "locked": false,
     "schema_version": 1,
     "solution": true
    }
   },
   "outputs": [],
   "source": [
    "def f2(n):\n",
    "    ### BEGIN SOLUTION\n",
    "    if(n==1):\n",
    "        return False\n",
    "    for i in range(2, n):\n",
    "        # check for factors\n",
    "        if (n % i) == 0:\n",
    "            return False\n",
    "    return True\n",
    "    ### END SOLUTION\n",
    "    pass"
   ]
  },
  {
   "cell_type": "code",
   "execution_count": 34,
   "metadata": {
    "nbgrader": {
     "grade": true,
     "grade_id": "cell-826ec4211109b15c",
     "locked": true,
     "points": 1,
     "schema_version": 1,
     "solution": false
    }
   },
   "outputs": [],
   "source": [
    "#Tests\n",
    "assert f2(2)==True\n",
    "assert f2(4)==False\n",
    "### BEGIN HIDDEN TESTS\n",
    "assert f2(1)==False\n",
    "assert f2(6911)==True\n",
    "assert f2(323)==False\n",
    "### END HIDDEN TESTS"
   ]
  },
  {
   "cell_type": "markdown",
   "metadata": {},
   "source": [
    "## Q3\n",
    "HackTheBox never gets tired of encoding and decoding strings, here is another question, this one is a little straight forward <br><br> *The string was splitted into a list such that every char was an element in list, then some random chars were added in the beginning and in the end such that the original character stayed in the middle* <br><br>\n",
    "You are given a function *f3*() and the list *l*, return the original string\n",
    "\n",
    "<br><code>Ex1: if the list is ['abc','pkonh','aqwetmkoi'], then the middle char of each element is 'b','o','t' repectively hence the original string is \"bot\"</code>"
   ]
  },
  {
   "cell_type": "code",
   "execution_count": 35,
   "metadata": {
    "nbgrader": {
     "grade": false,
     "grade_id": "cell-61aba2b1b33f8ef7",
     "locked": false,
     "schema_version": 1,
     "solution": true
    }
   },
   "outputs": [],
   "source": [
    "def f3(l):\n",
    "    ### BEGIN SOLUTION\n",
    "    p=\"\"\n",
    "    for i in l:\n",
    "        p+=i[len(i)//2]\n",
    "    return p\n",
    "    ### END SOLUTION\n",
    "    pass"
   ]
  },
  {
   "cell_type": "code",
   "execution_count": 48,
   "metadata": {
    "nbgrader": {
     "grade": true,
     "grade_id": "cell-6240053ada5a86d4",
     "locked": true,
     "points": 1,
     "schema_version": 1,
     "solution": false
    }
   },
   "outputs": [],
   "source": [
    "#Tests\n",
    "assert f3(['abc','pkonh','aqwetmkoi'])==\"bot\"\n",
    "assert f3(['abc','pkonh','o','pkp'])==\"book\"\n",
    "### BEGIN HIDDEN TESTS\n",
    "assert f3(['xxsyy',\n",
    " 'xxxpyyy',\n",
    " 'xxxxxxxxxayyyyyyyyy',\n",
    " 'xxxxxxxcyyyyyyy',\n",
    " 'xxxeyyy',\n",
    " 'xoy',\n",
    " 'xxxxxnyyyyy',\n",
    " 'xxxxxxoyyyyyy',\n",
    " 'xxxxxxxvyyyyyyy',\n",
    " 'xxxxxxxxxxxxayyyyyyyyyyyy'])==\"spaceonova\"\n",
    "assert f3(['avavavavavavavavavavavavsyxyxyxyxyxyxyxyxyxyxyxyx',\n",
    " 'avavavavavavavavavavavavavavavavavavavavavavavavavavavavavavavavavoyxyxyxyxyxyxyxyxyxyxyxyxyxyxyxyxyxyxyxyxyxyxyxyxyxyxyxyxyxyxyxyxyx',\n",
    " 'avavavavavavavavavavavavavavavavavavavuyxyxyxyxyxyxyxyxyxyxyxyxyxyxyxyxyxyxyx',\n",
    " 'avavavavavavavtyxyxyxyxyxyxyx',\n",
    " 'avavavavaviyxyxyxyxyx',\n",
    " 'avavavavavavavavavavavavkyxyxyxyxyxyxyxyxyxyxyxyx'])==\"soutik\"\n",
    "# assert f3(323)==False\n",
    "### END HIDDEN TESTS"
   ]
  },
  {
   "cell_type": "markdown",
   "metadata": {},
   "source": [
    "## Q4\n",
    "This question prepares you for the coming question<br>\n",
    "Make a list of frequencies of characters in a string ```s``` provided the string contains only lower cases alphabets.<br>\n",
    "There is a built-in function in python knows an ```ord()``` which returns the ASCII value of a char.<br>\n",
    "For example, the ascii value of ```a``` is 97 hence <code>ord('a')=97</code><br>Now,this would guide you"
   ]
  },
  {
   "cell_type": "code",
   "execution_count": 52,
   "metadata": {
    "nbgrader": {
     "grade": false,
     "grade_id": "cell-f3ccda9a2c873a97",
     "locked": false,
     "schema_version": 1,
     "solution": true
    }
   },
   "outputs": [],
   "source": [
    "def f4(s): #s is string\n",
    "    # As there are 26 small case alphabets, create a list having 26 elements and all to 0\n",
    "    l= None\n",
    "    ### BEGIN SOLUTION\n",
    "    l=[0]*26\n",
    "    ### END SOLUTION\n",
    "    \n",
    "    # Now let us read every char and make sure 'a' is at index 0, 'b' at 1 and so on.....\n",
    "    # Use ord()\n",
    "    # Suppose you need to access 'd' whose ascii is 100 but must be stored at index 3, we would simply subtract the\n",
    "    # ascii value of 'a' which is 97, now implement yourself\n",
    "    \n",
    "    ### BEGIN SOLUTION\n",
    "    for i in s:\n",
    "        l[ord(i)-ord('a')]+=1\n",
    "    ### END SOLUTION\n",
    "    return l"
   ]
  },
  {
   "cell_type": "code",
   "execution_count": 68,
   "metadata": {
    "nbgrader": {
     "grade": true,
     "grade_id": "cell-ec0f891982e359ef",
     "locked": true,
     "points": 1,
     "schema_version": 1,
     "solution": false
    }
   },
   "outputs": [],
   "source": [
    "#Tests\n",
    "assert f4('abc')==[1, 1, 1, 0, 0, 0, 0, 0, 0, 0, 0, 0, 0, 0, 0, 0, 0, 0, 0, 0, 0, 0, 0, 0, 0, 0]\n",
    "assert f4('aabbcc')==[2, 2, 2, 0, 0, 0, 0, 0, 0, 0, 0, 0, 0, 0, 0, 0, 0, 0, 0, 0, 0, 0, 0, 0, 0, 0]\n",
    "### BEGIN HIDDEN TESTS\n",
    "assert f4('jhgfvuyzzxkdcgajduagucgsdiun')==[2, 0, 2, 3, 0, 1, 4, 1, 1, 2, 1, 0, 0, 1, 0, 0, 0, 0, 1, 0, 4, 1, 0, 1, 1, 2]\n",
    "assert f4(\"ajhdgjybegedhghbdybadagnfbhvfbpqoiuwsjiqzzzzuoqpp\")==[3, 5, 0, 4, 2, 2, 4, 4, 2, 3, 0, 0, 0, 1, 2, 3, 3, 0, 1, 0, 2, 1, 1, 0, 2, 4]\n",
    "### END HIDDEN TESTS"
   ]
  },
  {
   "cell_type": "markdown",
   "metadata": {},
   "source": [
    "## Q5 Optional\n",
    "Now, let us come to the real question <br>\n",
    "\n",
    "HackTheBox really loves strings a lot but they likes palindromic strings more. Today, they took two strings <b>A</b> and <b>B</b>, each consisting of lower case alphabets.\n",
    "\n",
    "They are eager to know whether it is possible to choose some <b>non empty</b> strings <b>s1</b> and <b>s2</b> where <b>s1 is a substring of A</b>, <b>s2 is a substring of B</b> such that the <b>concatenation of s1 and s2 is a palindromic string.</b><br><br>\n",
    "You will be given two string A and B and return ```True``` if it possible to choose such strings <b>s1 & s2</b> else ```False```\n",
    "<div style=\"text-align: right\">-- 3 points </div>"
   ]
  },
  {
   "cell_type": "code",
   "execution_count": 93,
   "metadata": {
    "nbgrader": {
     "grade": false,
     "grade_id": "cell-7b8c5a1796c5b1fe",
     "locked": false,
     "schema_version": 1,
     "solution": true
    }
   },
   "outputs": [],
   "source": [
    "def f5(A,B): #A and B are strings\n",
    "    # You can use f4()\n",
    "    ### BEGIN SOLUTION\n",
    "    z=f4(A)\n",
    "    z1=f4(B)\n",
    "    for i in range(26):\n",
    "        if(z[i] and z1[i]):\n",
    "            return True\n",
    "    return False\n",
    "    ### END SOLUTION\n",
    "    pass"
   ]
  },
  {
   "cell_type": "code",
   "execution_count": 94,
   "metadata": {
    "nbgrader": {
     "grade": true,
     "grade_id": "cell-33cb3c0010494a5b",
     "locked": true,
     "points": 3,
     "schema_version": 1,
     "solution": false
    }
   },
   "outputs": [],
   "source": [
    "#Tests\n",
    "assert f5('abc','abc')==True\n",
    "assert f5('a','b')==False\n",
    "assert f5('abba','baab')==True\n",
    "### BEGIN HIDDEN TESTS\n",
    "assert f5('a','a')==True\n",
    "assert f5('yjgdefywefuyf','uaredyqtwud')==True\n",
    "assert f5('qwertyuiop','asdfghjklkjhgfdsasdfghjklkmnbvcx')==False\n",
    "assert f5('zxcvbnmnbvcxzxcvbnmnbvcxxcvbnm','asdfghjhgfdsndfghjjhgfdsdfghj')==True\n",
    "### END HIDDEN TESTS"
   ]
  },
  {
   "cell_type": "markdown",
   "metadata": {},
   "source": [
    "## Q6\n",
    "You are given two integers a and b.\n",
    "\n",
    "In one move, you can choose some integer *k* from *1 to 10* and <b>add it to a or subtract it from a</b>. <br><br>In other words, you choose an integer k∈[1:10] and perform ```a=a + k``` or ```a = a − k```. You may use different values of k in different moves.\n",
    "\n",
    "Your task is to find the minimum number of moves required to obtain <em><b>b</b></em> from <em><b>a</b></em>.<br>\n",
    "\n",
    "<div style=\"font-size: 85%;\">PS: You may not need loops, may not</div>"
   ]
  },
  {
   "cell_type": "code",
   "execution_count": 82,
   "metadata": {
    "nbgrader": {
     "grade": false,
     "grade_id": "cell-c7e374efc2711302",
     "locked": false,
     "schema_version": 1,
     "solution": true
    }
   },
   "outputs": [],
   "source": [
    "def f6(a,b):\n",
    "    ### BEGIN SOLUTION\n",
    "    return ((abs(a - b) + 9) // 10)\n",
    "    ### END SOLUTION\n",
    "    pass"
   ]
  },
  {
   "cell_type": "code",
   "execution_count": 83,
   "metadata": {
    "nbgrader": {
     "grade": true,
     "grade_id": "cell-24536de406e7c539",
     "locked": true,
     "points": 1,
     "schema_version": 1,
     "solution": false
    }
   },
   "outputs": [],
   "source": [
    "# Tests\n",
    "assert f6(5,5)==0    #nothing required\n",
    "assert f6(13,42)==3  #13→23→32→42  (add 10, add 9, add 10).\n",
    "assert f6(18,4)==2   #18→10→4  (subtract 8, subtract 6)\n",
    "### BEGIN HIDDEN TESTS\n",
    "assert f6(1337,420)==92\n",
    "assert f6(123456789,1000000000)==87654322\n",
    "assert f6(100500,9000)==9150\n",
    "assert f6(81773,12)==8177\n",
    "### END HIDDEN TESTS"
   ]
  },
  {
   "cell_type": "code",
   "execution_count": null,
   "metadata": {},
   "outputs": [],
   "source": []
  }
 ],
 "metadata": {
  "celltoolbar": "Create Assignment",
  "kernelspec": {
   "display_name": "Python 3",
   "language": "python",
   "name": "python3"
  },
  "language_info": {
   "codemirror_mode": {
    "name": "ipython",
    "version": 3
   },
   "file_extension": ".py",
   "mimetype": "text/x-python",
   "name": "python",
   "nbconvert_exporter": "python",
   "pygments_lexer": "ipython3",
   "version": "3.7.3"
  }
 },
 "nbformat": 4,
 "nbformat_minor": 2
}
