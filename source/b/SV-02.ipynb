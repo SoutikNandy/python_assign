{
 "cells": [
  {
   "cell_type": "markdown",
   "metadata": {
    "nbgrader": {
     "grade": false,
     "grade_id": "cell-5da2ed4f261cc2ad",
     "locked": true,
     "schema_version": 1,
     "solution": false
    }
   },
   "source": [
    "# Assignment 2"
   ]
  },
  {
   "cell_type": "markdown",
   "metadata": {},
   "source": [
    "Reverse the string using slicing and store in ans1"
   ]
  },
  {
   "cell_type": "code",
   "execution_count": 26,
   "metadata": {
    "nbgrader": {
     "grade": false,
     "grade_id": "cell-0299b3edb1134423",
     "locked": false,
     "schema_version": 1,
     "solution": true
    }
   },
   "outputs": [],
   "source": [
    "s ='hello'\n",
    "ans1= None\n",
    "### BEGIN SOLUTION\n",
    "ans1=s[::-1]\n",
    "### END SOLUTION"
   ]
  },
  {
   "cell_type": "code",
   "execution_count": 27,
   "metadata": {
    "nbgrader": {
     "grade": true,
     "grade_id": "cell-3331bbdd208eb488",
     "locked": true,
     "points": 1,
     "schema_version": 1,
     "solution": false
    }
   },
   "outputs": [],
   "source": [
    "### BEGIN HIDDEN TESTS\n",
    "assert ans1==\"hello\"[::-1]\n",
    "### END HIDDEN TESTS"
   ]
  },
  {
   "cell_type": "markdown",
   "metadata": {
    "nbgrader": {
     "grade": false,
     "grade_id": "cell-7fc8db293499dea2",
     "locked": true,
     "schema_version": 1,
     "solution": false
    }
   },
   "source": [
    "HackTheBox Foundation came up with an interesting thing, You are given a string *p* and it is coded as follows:\n",
    "\n",
    "*An original string ans2 was taken and every char in 'ans2' is suffixed (added in end) x number of random chars and stored in a variable p* <br><br>\n",
    "Find ans2\n",
    "<div style=\"text-align: right\">-- 2 points </div>"
   ]
  },
  {
   "cell_type": "code",
   "execution_count": 53,
   "metadata": {
    "nbgrader": {
     "grade": false,
     "grade_id": "cell-bcbb56baf111b1cd",
     "locked": false,
     "schema_version": 1,
     "solution": true
    }
   },
   "outputs": [],
   "source": [
    "p='clbzwaolcnmonwy pbggrx rrpbyqmaxheo twhqxzsyitzf cjlxnyoqbpso urbtupvtcs cfhdodmkyjwim fuddkbhmr soufbiqvjhetgfume'\n",
    "ans2=None\n",
    "### BEGIN SOLUTION\n",
    "ans2=p[::6]\n",
    "### END SOLUTION"
   ]
  },
  {
   "cell_type": "code",
   "execution_count": 54,
   "metadata": {
    "nbgrader": {
     "grade": true,
     "grade_id": "cell-d91e156166669e98",
     "locked": true,
     "points": 2,
     "schema_version": 1,
     "solution": false
    }
   },
   "outputs": [],
   "source": [
    "### BEGIN HIDDEN TESTS\n",
    "assert ans2==\"congrats you did it\"\n",
    "### END HIDDEN TESTS"
   ]
  },
  {
   "cell_type": "markdown",
   "metadata": {},
   "source": [
    "You are given two lists x and y. Sort x in ascending order and sort y in descending order. Then store the concatenation in ans3"
   ]
  },
  {
   "cell_type": "code",
   "execution_count": 55,
   "metadata": {
    "nbgrader": {
     "grade": false,
     "grade_id": "cell-4ce105b074ba9ef1",
     "locked": false,
     "schema_version": 1,
     "solution": true
    }
   },
   "outputs": [],
   "source": [
    "x=[3,5,1,9,7,4]\n",
    "y=['limit','tends','to','infinity']\n",
    "ans3=None\n",
    "### BEGIN SOLUTION\n",
    "x.sort()\n",
    "y.sort(reverse=True)\n",
    "ans3=x+y\n",
    "### END SOLUTION"
   ]
  },
  {
   "cell_type": "code",
   "execution_count": 56,
   "metadata": {
    "nbgrader": {
     "grade": true,
     "grade_id": "cell-db13bb8ec526dea3",
     "locked": true,
     "points": 1,
     "schema_version": 1,
     "solution": false
    }
   },
   "outputs": [],
   "source": [
    "### BEGIN HIDDEN TESTS\n",
    "x=[3,5,1,9,7,4]\n",
    "y=['limit','tends','to','infinity']\n",
    "x.sort()\n",
    "y.sort(reverse=True)\n",
    "r_ans=x+y\n",
    "assert ans3==r_ans\n",
    "### END HIDDEN TESTS"
   ]
  },
  {
   "cell_type": "markdown",
   "metadata": {},
   "source": [
    "You are given a list p.<br>\n",
    "Change 3<sup>rd</sup> element in p to <code>rock</code>.<br>\n",
    "Add <code>boss</code> in the end of list.<br>\n",
    "Add another element <code>don't</code> after <code>you</code><br>\n",
    "And store in ans4"
   ]
  },
  {
   "cell_type": "code",
   "execution_count": 1,
   "metadata": {
    "nbgrader": {
     "grade": false,
     "grade_id": "cell-0c36b20d9e316bdd",
     "locked": false,
     "schema_version": 1,
     "solution": true
    }
   },
   "outputs": [],
   "source": [
    "ans4=None\n",
    "p=['you','definitely','too','inside','of me']\n",
    "### BEGIN SOLUTION\n",
    "p[2]='rock'\n",
    "p.append('boss')\n",
    "p.insert(1,\"don't\")\n",
    "ans4=p\n",
    "### END SOLUTION"
   ]
  },
  {
   "cell_type": "code",
   "execution_count": 2,
   "metadata": {
    "nbgrader": {
     "grade": true,
     "grade_id": "cell-bc5190db0237a7ea",
     "locked": true,
     "points": 1,
     "schema_version": 1,
     "solution": false
    }
   },
   "outputs": [],
   "source": [
    "### BEGIN HIDDEN TESTS\n",
    "l=['you','definitely','too','inside','of me']\n",
    "l[2]='rock'\n",
    "l.append('boss')\n",
    "l.insert(1,\"don't\")\n",
    "assert l==ans4\n",
    "### END HIDDEN TESTS"
   ]
  },
  {
   "cell_type": "code",
   "execution_count": 3,
   "metadata": {},
   "outputs": [
    {
     "data": {
      "text/plain": [
       "['you', \"don't\", 'definitely', 'rock', 'inside', 'of me', 'boss']"
      ]
     },
     "execution_count": 3,
     "metadata": {},
     "output_type": "execute_result"
    }
   ],
   "source": [
    "ans3"
   ]
  },
  {
   "cell_type": "code",
   "execution_count": null,
   "metadata": {},
   "outputs": [],
   "source": []
  }
 ],
 "metadata": {
  "celltoolbar": "Create Assignment",
  "kernelspec": {
   "display_name": "Python 3",
   "language": "python",
   "name": "python3"
  },
  "language_info": {
   "codemirror_mode": {
    "name": "ipython",
    "version": 3
   },
   "file_extension": ".py",
   "mimetype": "text/x-python",
   "name": "python",
   "nbconvert_exporter": "python",
   "pygments_lexer": "ipython3",
   "version": "3.7.3"
  }
 },
 "nbformat": 4,
 "nbformat_minor": 2
}
